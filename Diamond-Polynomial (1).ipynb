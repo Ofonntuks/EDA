{
 "cells": [
  {
   "cell_type": "code",
   "execution_count": null,
   "id": "1a0a2baf",
   "metadata": {},
   "outputs": [],
   "source": []
  },
  {
   "cell_type": "code",
   "execution_count": 102,
   "id": "69712bd9",
   "metadata": {},
   "outputs": [],
   "source": [
    "#import Necessary Liabrary\n",
    "import numpy as np\n",
    "import matplotlib.pyplot as plt\n",
    "import pandas as pd\n",
    "from sklearn.linear_model import LinearRegression\n",
    "from sklearn.preprocessing import PolynomialFeatures\n",
    "from sklearn.model_selection import train_test_split\n",
    "import seaborn as sns\n",
    "import category_encoders as ce\n",
    "from sklearn.preprocessing import StandardScaler\n",
    "from sklearn.preprocessing import MinMaxScaler\n",
    "from sklearn.metrics import mean_squared_error, mean_absolute_error, r2_score"
   ]
  },
  {
   "cell_type": "code",
   "execution_count": 70,
   "id": "00621d76",
   "metadata": {},
   "outputs": [
    {
     "name": "stdout",
     "output_type": "stream",
     "text": [
      "Note: you may need to restart the kernel to use updated packages.\n"
     ]
    },
    {
     "name": "stderr",
     "output_type": "stream",
     "text": [
      "ERROR: unknown command \"!\"\n",
      "\n"
     ]
    }
   ],
   "source": [
    "pip! install category_encoders"
   ]
  },
  {
   "cell_type": "code",
   "execution_count": 71,
   "id": "7e337db9",
   "metadata": {},
   "outputs": [],
   "source": [
    "import category_encoders as ce"
   ]
  },
  {
   "cell_type": "code",
   "execution_count": 72,
   "id": "b837fabf",
   "metadata": {},
   "outputs": [],
   "source": [
    "#Import you CSV file and create a dataframe\n",
    "dia=pd.read_csv('M6_T2_V1_Diamonds.csv')"
   ]
  },
  {
   "cell_type": "code",
   "execution_count": 73,
   "id": "e95b7f8d",
   "metadata": {},
   "outputs": [
    {
     "data": {
      "text/html": [
       "<div>\n",
       "<style scoped>\n",
       "    .dataframe tbody tr th:only-of-type {\n",
       "        vertical-align: middle;\n",
       "    }\n",
       "\n",
       "    .dataframe tbody tr th {\n",
       "        vertical-align: top;\n",
       "    }\n",
       "\n",
       "    .dataframe thead th {\n",
       "        text-align: right;\n",
       "    }\n",
       "</style>\n",
       "<table border=\"1\" class=\"dataframe\">\n",
       "  <thead>\n",
       "    <tr style=\"text-align: right;\">\n",
       "      <th></th>\n",
       "      <th>carat</th>\n",
       "      <th>cut</th>\n",
       "      <th>color</th>\n",
       "      <th>clarity</th>\n",
       "      <th>price</th>\n",
       "      <th>x</th>\n",
       "      <th>y</th>\n",
       "      <th>z</th>\n",
       "    </tr>\n",
       "  </thead>\n",
       "  <tbody>\n",
       "    <tr>\n",
       "      <th>0</th>\n",
       "      <td>0.23</td>\n",
       "      <td>Ideal</td>\n",
       "      <td>E</td>\n",
       "      <td>SI2</td>\n",
       "      <td>326</td>\n",
       "      <td>3.95</td>\n",
       "      <td>3.98</td>\n",
       "      <td>2.43</td>\n",
       "    </tr>\n",
       "    <tr>\n",
       "      <th>1</th>\n",
       "      <td>0.21</td>\n",
       "      <td>Premium</td>\n",
       "      <td>E</td>\n",
       "      <td>SI1</td>\n",
       "      <td>326</td>\n",
       "      <td>3.89</td>\n",
       "      <td>3.84</td>\n",
       "      <td>2.31</td>\n",
       "    </tr>\n",
       "    <tr>\n",
       "      <th>2</th>\n",
       "      <td>0.23</td>\n",
       "      <td>Good</td>\n",
       "      <td>E</td>\n",
       "      <td>VS1</td>\n",
       "      <td>327</td>\n",
       "      <td>4.05</td>\n",
       "      <td>4.07</td>\n",
       "      <td>2.31</td>\n",
       "    </tr>\n",
       "    <tr>\n",
       "      <th>3</th>\n",
       "      <td>0.29</td>\n",
       "      <td>Premium</td>\n",
       "      <td>I</td>\n",
       "      <td>VS2</td>\n",
       "      <td>334</td>\n",
       "      <td>4.20</td>\n",
       "      <td>4.23</td>\n",
       "      <td>2.63</td>\n",
       "    </tr>\n",
       "    <tr>\n",
       "      <th>4</th>\n",
       "      <td>0.31</td>\n",
       "      <td>Good</td>\n",
       "      <td>J</td>\n",
       "      <td>SI2</td>\n",
       "      <td>335</td>\n",
       "      <td>4.34</td>\n",
       "      <td>4.35</td>\n",
       "      <td>2.75</td>\n",
       "    </tr>\n",
       "  </tbody>\n",
       "</table>\n",
       "</div>"
      ],
      "text/plain": [
       "   carat      cut color clarity  price     x     y     z\n",
       "0   0.23    Ideal     E     SI2    326  3.95  3.98  2.43\n",
       "1   0.21  Premium     E     SI1    326  3.89  3.84  2.31\n",
       "2   0.23     Good     E     VS1    327  4.05  4.07  2.31\n",
       "3   0.29  Premium     I     VS2    334  4.20  4.23  2.63\n",
       "4   0.31     Good     J     SI2    335  4.34  4.35  2.75"
      ]
     },
     "execution_count": 73,
     "metadata": {},
     "output_type": "execute_result"
    }
   ],
   "source": [
    "#Print 5 First Row in the Data\n",
    "dia.head()"
   ]
  },
  {
   "cell_type": "code",
   "execution_count": 74,
   "id": "224beb6b",
   "metadata": {},
   "outputs": [
    {
     "name": "stdout",
     "output_type": "stream",
     "text": [
      "<class 'pandas.core.frame.DataFrame'>\n",
      "RangeIndex: 53940 entries, 0 to 53939\n",
      "Data columns (total 8 columns):\n",
      " #   Column   Non-Null Count  Dtype  \n",
      "---  ------   --------------  -----  \n",
      " 0   carat    53940 non-null  float64\n",
      " 1   cut      53940 non-null  object \n",
      " 2   color    53940 non-null  object \n",
      " 3   clarity  53940 non-null  object \n",
      " 4   price    53940 non-null  int64  \n",
      " 5   x        53940 non-null  float64\n",
      " 6   y        53940 non-null  float64\n",
      " 7   z        53940 non-null  float64\n",
      "dtypes: float64(4), int64(1), object(3)\n",
      "memory usage: 3.3+ MB\n"
     ]
    }
   ],
   "source": [
    "#Check Data Information\n",
    "dia.info()"
   ]
  },
  {
   "cell_type": "code",
   "execution_count": 75,
   "id": "789fec70",
   "metadata": {},
   "outputs": [
    {
     "data": {
      "text/plain": [
       "(53940, 8)"
      ]
     },
     "execution_count": 75,
     "metadata": {},
     "output_type": "execute_result"
    }
   ],
   "source": [
    "#Check Data Shape\n",
    "dia.shape"
   ]
  },
  {
   "cell_type": "code",
   "execution_count": 76,
   "id": "8dd75c3f",
   "metadata": {},
   "outputs": [],
   "source": [
    "#Convert Object Columns to Cateogory\n",
    "dia['cut']=dia['cut'].astype('category')\n",
    "dia['color']=dia['color'].astype('category')\n",
    "dia['clarity']=dia['clarity'].astype('category')"
   ]
  },
  {
   "cell_type": "code",
   "execution_count": 77,
   "id": "c74704c2",
   "metadata": {},
   "outputs": [
    {
     "name": "stdout",
     "output_type": "stream",
     "text": [
      "<class 'pandas.core.frame.DataFrame'>\n",
      "RangeIndex: 53940 entries, 0 to 53939\n",
      "Data columns (total 8 columns):\n",
      " #   Column   Non-Null Count  Dtype   \n",
      "---  ------   --------------  -----   \n",
      " 0   carat    53940 non-null  float64 \n",
      " 1   cut      53940 non-null  category\n",
      " 2   color    53940 non-null  category\n",
      " 3   clarity  53940 non-null  category\n",
      " 4   price    53940 non-null  int64   \n",
      " 5   x        53940 non-null  float64 \n",
      " 6   y        53940 non-null  float64 \n",
      " 7   z        53940 non-null  float64 \n",
      "dtypes: category(3), float64(4), int64(1)\n",
      "memory usage: 2.2 MB\n"
     ]
    }
   ],
   "source": [
    "#Recheck to confirm the conversion\n",
    "dia.info()"
   ]
  },
  {
   "cell_type": "code",
   "execution_count": 78,
   "id": "322a8be8",
   "metadata": {},
   "outputs": [
    {
     "name": "stdout",
     "output_type": "stream",
     "text": [
      "carat      0\n",
      "cut        0\n",
      "color      0\n",
      "clarity    0\n",
      "price      0\n",
      "x          0\n",
      "y          0\n",
      "z          0\n",
      "dtype: int64\n"
     ]
    }
   ],
   "source": [
    "#Check for Missing Values\n",
    "print(dia.isna().sum())"
   ]
  },
  {
   "cell_type": "code",
   "execution_count": 79,
   "id": "814ed4d8",
   "metadata": {},
   "outputs": [
    {
     "data": {
      "image/png": "[encoded data removed]",
      "text/plain": [
       "<Figure size 720x360 with 4 Axes>"
      ]
     },
     "metadata": {
      "needs_background": "light"
     },
     "output_type": "display_data"
    }
   ],
   "source": [
    "#Check for Outliars \n",
    "plt.figure(figsize=(10,5))\n",
    "\n",
    "plt.subplot(2,2,1)\n",
    "sns.boxplot(y='carat', data=dia)\n",
    "\n",
    "plt.subplot(2,2,2)\n",
    "sns.boxplot(y='x', data=dia)\n",
    "\n",
    "plt.subplot(2,2,3)\n",
    "sns.boxplot(y='y', data=dia)\n",
    "\n",
    "plt.subplot(2,2,4)\n",
    "sns.boxplot(y='z', data=dia)\n",
    "\n",
    "plt.tight_layout()\n",
    "plt.show()"
   ]
  },
  {
   "cell_type": "code",
   "execution_count": 80,
   "id": "5627a25b",
   "metadata": {},
   "outputs": [
    {
     "name": "stdout",
     "output_type": "stream",
     "text": [
      "       carat  cut_0  cut_1  cut_2  color_0  color_1  color_2  clarity_0  \\\n",
      "0       0.23      0      0      1        0        0        1          0   \n",
      "1       0.21      0      1      0        0        0        1          0   \n",
      "2       0.23      0      1      1        0        0        1          0   \n",
      "3       0.29      0      1      0        0        1        0          0   \n",
      "4       0.31      0      1      1        0        1        1          0   \n",
      "...      ...    ...    ...    ...      ...      ...      ...        ...   \n",
      "53935   0.72      0      0      1        1        1        1          0   \n",
      "53936   0.72      0      1      1        1        1        1          0   \n",
      "53937   0.70      1      0      0        1        1        1          0   \n",
      "53938   0.86      0      1      0        1        0        0          0   \n",
      "53939   0.75      0      0      1        1        1        1          0   \n",
      "\n",
      "       clarity_1  clarity_2  clarity_3  price     x     y     z  \n",
      "0              0          0          1    326  3.95  3.98  2.43  \n",
      "1              0          1          0    326  3.89  3.84  2.31  \n",
      "2              0          1          1    327  4.05  4.07  2.31  \n",
      "3              1          0          0    334  4.20  4.23  2.63  \n",
      "4              0          0          1    335  4.34  4.35  2.75  \n",
      "...          ...        ...        ...    ...   ...   ...   ...  \n",
      "53935          0          1          0   2757  5.75  5.76  3.50  \n",
      "53936          0          1          0   2757  5.69  5.75  3.61  \n",
      "53937          0          1          0   2757  5.66  5.68  3.56  \n",
      "53938          0          0          1   2757  6.15  6.12  3.74  \n",
      "53939          0          0          1   2757  5.83  5.87  3.64  \n",
      "\n",
      "[53940 rows x 15 columns]\n"
     ]
    }
   ],
   "source": [
    "#Encode Categorical Columns using any encoding method here we are using binary encoder\n",
    "binary_encoder = ce.BinaryEncoder(cols=['cut','color','clarity'])\n",
    "dia_binary_ecoded=binary_encoder.fit_transform(dia)\n",
    "print(dia_binary_ecoded)"
   ]
  },
  {
   "cell_type": "code",
   "execution_count": 81,
   "id": "2c61a50d",
   "metadata": {},
   "outputs": [],
   "source": [
    "#Return the encoded data into the original dataframe\n",
    "dia=dia_binary_ecoded"
   ]
  },
  {
   "cell_type": "code",
   "execution_count": 82,
   "id": "5cfb5b97",
   "metadata": {},
   "outputs": [
    {
     "data": {
      "text/html": [
       "<div>\n",
       "<style scoped>\n",
       "    .dataframe tbody tr th:only-of-type {\n",
       "        vertical-align: middle;\n",
       "    }\n",
       "\n",
       "    .dataframe tbody tr th {\n",
       "        vertical-align: top;\n",
       "    }\n",
       "\n",
       "    .dataframe thead th {\n",
       "        text-align: right;\n",
       "    }\n",
       "</style>\n",
       "<table border=\"1\" class=\"dataframe\">\n",
       "  <thead>\n",
       "    <tr style=\"text-align: right;\">\n",
       "      <th></th>\n",
       "      <th>carat</th>\n",
       "      <th>cut_0</th>\n",
       "      <th>cut_1</th>\n",
       "      <th>cut_2</th>\n",
       "      <th>color_0</th>\n",
       "      <th>color_1</th>\n",
       "      <th>color_2</th>\n",
       "      <th>clarity_0</th>\n",
       "      <th>clarity_1</th>\n",
       "      <th>clarity_2</th>\n",
       "      <th>clarity_3</th>\n",
       "      <th>price</th>\n",
       "      <th>x</th>\n",
       "      <th>y</th>\n",
       "      <th>z</th>\n",
       "    </tr>\n",
       "  </thead>\n",
       "  <tbody>\n",
       "    <tr>\n",
       "      <th>0</th>\n",
       "      <td>0.23</td>\n",
       "      <td>0</td>\n",
       "      <td>0</td>\n",
       "      <td>1</td>\n",
       "      <td>0</td>\n",
       "      <td>0</td>\n",
       "      <td>1</td>\n",
       "      <td>0</td>\n",
       "      <td>0</td>\n",
       "      <td>0</td>\n",
       "      <td>1</td>\n",
       "      <td>326</td>\n",
       "      <td>3.95</td>\n",
       "      <td>3.98</td>\n",
       "      <td>2.43</td>\n",
       "    </tr>\n",
       "    <tr>\n",
       "      <th>1</th>\n",
       "      <td>0.21</td>\n",
       "      <td>0</td>\n",
       "      <td>1</td>\n",
       "      <td>0</td>\n",
       "      <td>0</td>\n",
       "      <td>0</td>\n",
       "      <td>1</td>\n",
       "      <td>0</td>\n",
       "      <td>0</td>\n",
       "      <td>1</td>\n",
       "      <td>0</td>\n",
       "      <td>326</td>\n",
       "      <td>3.89</td>\n",
       "      <td>3.84</td>\n",
       "      <td>2.31</td>\n",
       "    </tr>\n",
       "    <tr>\n",
       "      <th>2</th>\n",
       "      <td>0.23</td>\n",
       "      <td>0</td>\n",
       "      <td>1</td>\n",
       "      <td>1</td>\n",
       "      <td>0</td>\n",
       "      <td>0</td>\n",
       "      <td>1</td>\n",
       "      <td>0</td>\n",
       "      <td>0</td>\n",
       "      <td>1</td>\n",
       "      <td>1</td>\n",
       "      <td>327</td>\n",
       "      <td>4.05</td>\n",
       "      <td>4.07</td>\n",
       "      <td>2.31</td>\n",
       "    </tr>\n",
       "    <tr>\n",
       "      <th>3</th>\n",
       "      <td>0.29</td>\n",
       "      <td>0</td>\n",
       "      <td>1</td>\n",
       "      <td>0</td>\n",
       "      <td>0</td>\n",
       "      <td>1</td>\n",
       "      <td>0</td>\n",
       "      <td>0</td>\n",
       "      <td>1</td>\n",
       "      <td>0</td>\n",
       "      <td>0</td>\n",
       "      <td>334</td>\n",
       "      <td>4.20</td>\n",
       "      <td>4.23</td>\n",
       "      <td>2.63</td>\n",
       "    </tr>\n",
       "    <tr>\n",
       "      <th>4</th>\n",
       "      <td>0.31</td>\n",
       "      <td>0</td>\n",
       "      <td>1</td>\n",
       "      <td>1</td>\n",
       "      <td>0</td>\n",
       "      <td>1</td>\n",
       "      <td>1</td>\n",
       "      <td>0</td>\n",
       "      <td>0</td>\n",
       "      <td>0</td>\n",
       "      <td>1</td>\n",
       "      <td>335</td>\n",
       "      <td>4.34</td>\n",
       "      <td>4.35</td>\n",
       "      <td>2.75</td>\n",
       "    </tr>\n",
       "    <tr>\n",
       "      <th>...</th>\n",
       "      <td>...</td>\n",
       "      <td>...</td>\n",
       "      <td>...</td>\n",
       "      <td>...</td>\n",
       "      <td>...</td>\n",
       "      <td>...</td>\n",
       "      <td>...</td>\n",
       "      <td>...</td>\n",
       "      <td>...</td>\n",
       "      <td>...</td>\n",
       "      <td>...</td>\n",
       "      <td>...</td>\n",
       "      <td>...</td>\n",
       "      <td>...</td>\n",
       "      <td>...</td>\n",
       "    </tr>\n",
       "    <tr>\n",
       "      <th>53935</th>\n",
       "      <td>0.72</td>\n",
       "      <td>0</td>\n",
       "      <td>0</td>\n",
       "      <td>1</td>\n",
       "      <td>1</td>\n",
       "      <td>1</td>\n",
       "      <td>1</td>\n",
       "      <td>0</td>\n",
       "      <td>0</td>\n",
       "      <td>1</td>\n",
       "      <td>0</td>\n",
       "      <td>2757</td>\n",
       "      <td>5.75</td>\n",
       "      <td>5.76</td>\n",
       "      <td>3.50</td>\n",
       "    </tr>\n",
       "    <tr>\n",
       "      <th>53936</th>\n",
       "      <td>0.72</td>\n",
       "      <td>0</td>\n",
       "      <td>1</td>\n",
       "      <td>1</td>\n",
       "      <td>1</td>\n",
       "      <td>1</td>\n",
       "      <td>1</td>\n",
       "      <td>0</td>\n",
       "      <td>0</td>\n",
       "      <td>1</td>\n",
       "      <td>0</td>\n",
       "      <td>2757</td>\n",
       "      <td>5.69</td>\n",
       "      <td>5.75</td>\n",
       "      <td>3.61</td>\n",
       "    </tr>\n",
       "    <tr>\n",
       "      <th>53937</th>\n",
       "      <td>0.70</td>\n",
       "      <td>1</td>\n",
       "      <td>0</td>\n",
       "      <td>0</td>\n",
       "      <td>1</td>\n",
       "      <td>1</td>\n",
       "      <td>1</td>\n",
       "      <td>0</td>\n",
       "      <td>0</td>\n",
       "      <td>1</td>\n",
       "      <td>0</td>\n",
       "      <td>2757</td>\n",
       "      <td>5.66</td>\n",
       "      <td>5.68</td>\n",
       "      <td>3.56</td>\n",
       "    </tr>\n",
       "    <tr>\n",
       "      <th>53938</th>\n",
       "      <td>0.86</td>\n",
       "      <td>0</td>\n",
       "      <td>1</td>\n",
       "      <td>0</td>\n",
       "      <td>1</td>\n",
       "      <td>0</td>\n",
       "      <td>0</td>\n",
       "      <td>0</td>\n",
       "      <td>0</td>\n",
       "      <td>0</td>\n",
       "      <td>1</td>\n",
       "      <td>2757</td>\n",
       "      <td>6.15</td>\n",
       "      <td>6.12</td>\n",
       "      <td>3.74</td>\n",
       "    </tr>\n",
       "    <tr>\n",
       "      <th>53939</th>\n",
       "      <td>0.75</td>\n",
       "      <td>0</td>\n",
       "      <td>0</td>\n",
       "      <td>1</td>\n",
       "      <td>1</td>\n",
       "      <td>1</td>\n",
       "      <td>1</td>\n",
       "      <td>0</td>\n",
       "      <td>0</td>\n",
       "      <td>0</td>\n",
       "      <td>1</td>\n",
       "      <td>2757</td>\n",
       "      <td>5.83</td>\n",
       "      <td>5.87</td>\n",
       "      <td>3.64</td>\n",
       "    </tr>\n",
       "  </tbody>\n",
       "</table>\n",
       "<p>53940 rows × 15 columns</p>\n",
       "</div>"
      ],
      "text/plain": [
       "       carat  cut_0  cut_1  cut_2  color_0  color_1  color_2  clarity_0  \\\n",
       "0       0.23      0      0      1        0        0        1          0   \n",
       "1       0.21      0      1      0        0        0        1          0   \n",
       "2       0.23      0      1      1        0        0        1          0   \n",
       "3       0.29      0      1      0        0        1        0          0   \n",
       "4       0.31      0      1      1        0        1        1          0   \n",
       "...      ...    ...    ...    ...      ...      ...      ...        ...   \n",
       "53935   0.72      0      0      1        1        1        1          0   \n",
       "53936   0.72      0      1      1        1        1        1          0   \n",
       "53937   0.70      1      0      0        1        1        1          0   \n",
       "53938   0.86      0      1      0        1        0        0          0   \n",
       "53939   0.75      0      0      1        1        1        1          0   \n",
       "\n",
       "       clarity_1  clarity_2  clarity_3  price     x     y     z  \n",
       "0              0          0          1    326  3.95  3.98  2.43  \n",
       "1              0          1          0    326  3.89  3.84  2.31  \n",
       "2              0          1          1    327  4.05  4.07  2.31  \n",
       "3              1          0          0    334  4.20  4.23  2.63  \n",
       "4              0          0          1    335  4.34  4.35  2.75  \n",
       "...          ...        ...        ...    ...   ...   ...   ...  \n",
       "53935          0          1          0   2757  5.75  5.76  3.50  \n",
       "53936          0          1          0   2757  5.69  5.75  3.61  \n",
       "53937          0          1          0   2757  5.66  5.68  3.56  \n",
       "53938          0          0          1   2757  6.15  6.12  3.74  \n",
       "53939          0          0          1   2757  5.83  5.87  3.64  \n",
       "\n",
       "[53940 rows x 15 columns]"
      ]
     },
     "execution_count": 82,
     "metadata": {},
     "output_type": "execute_result"
    }
   ],
   "source": [
    "dia"
   ]
  },
  {
   "cell_type": "markdown",
   "id": "00ac2b98",
   "metadata": {},
   "source": [
    "# Used the below if you want to scaled the numerical features"
   ]
  },
  {
   "cell_type": "code",
   "execution_count": 83,
   "id": "680b9181",
   "metadata": {},
   "outputs": [],
   "source": [
    "#scaler=MinMaxScaler()\n",
    "#Dscale=dia[['carat','price','x','y','z']]\n",
    "#dia_scale=scaler.fit_transform(Dscale)\n",
    "#print(dia_scale)\n",
    "#Return_DataFrame=pd.DataFrame(dia_scale, columns=['carat','price','x','y','z'])"
   ]
  },
  {
   "cell_type": "code",
   "execution_count": 84,
   "id": "9f843080",
   "metadata": {},
   "outputs": [],
   "source": [
    "#Return_DataFrame"
   ]
  },
  {
   "cell_type": "code",
   "execution_count": 85,
   "id": "2d6bd915",
   "metadata": {},
   "outputs": [],
   "source": [
    "#for diam in Return_DataFrame.columns:\n",
    "    #dia[diam]=Return_DataFrame[diam]"
   ]
  },
  {
   "cell_type": "code",
   "execution_count": 86,
   "id": "e4e448e5",
   "metadata": {},
   "outputs": [],
   "source": [
    "#dia"
   ]
  },
  {
   "cell_type": "code",
   "execution_count": 87,
   "id": "9a0fe5bc",
   "metadata": {},
   "outputs": [],
   "source": [
    "#Checking for Correlation\n",
    "#y= dia['price']\n",
    "#X= dia.drop(['price'], axis=1)"
   ]
  },
  {
   "cell_type": "code",
   "execution_count": 88,
   "id": "a098e089",
   "metadata": {},
   "outputs": [],
   "source": [
    "#mymatrix=X.corr()\n",
    "#mymatrix"
   ]
  },
  {
   "cell_type": "code",
   "execution_count": 89,
   "id": "dfcbf0c5",
   "metadata": {},
   "outputs": [],
   "source": [
    "#mymatrixAll=dia.corr()\n",
    "#mymatrixAll"
   ]
  },
  {
   "cell_type": "code",
   "execution_count": 90,
   "id": "cc50c841",
   "metadata": {},
   "outputs": [],
   "source": [
    "#sns.regplot(x=dia.carat,y=dia.price,ci=None)"
   ]
  },
  {
   "cell_type": "code",
   "execution_count": 91,
   "id": "5ffb3469",
   "metadata": {},
   "outputs": [
    {
     "data": {
      "text/plain": [
       "<AxesSubplot:>"
      ]
     },
     "execution_count": 91,
     "metadata": {},
     "output_type": "execute_result"
    },
    {
     "data": {
      "image/png": "[encoded data removed]",
      "text/plain": [
       "<Figure size 864x720 with 2 Axes>"
      ]
     },
     "metadata": {
      "needs_background": "light"
     },
     "output_type": "display_data"
    }
   ],
   "source": [
    "#using heatmap to check for columns that are highly correlated with the dependent variable\n",
    "plt.figure(figsize=(12,10))\n",
    "sns.heatmap(dia.corr(),annot=True)\n"
   ]
  },
  {
   "cell_type": "code",
   "execution_count": 96,
   "id": "b65cafaa",
   "metadata": {},
   "outputs": [
    {
     "data": {
      "text/plain": [
       "0         326\n",
       "1         326\n",
       "2         327\n",
       "3         334\n",
       "4         335\n",
       "         ... \n",
       "53935    2757\n",
       "53936    2757\n",
       "53937    2757\n",
       "53938    2757\n",
       "53939    2757\n",
       "Name: price, Length: 53940, dtype: int64"
      ]
     },
     "execution_count": 96,
     "metadata": {},
     "output_type": "execute_result"
    }
   ],
   "source": [
    "# Features and target\n",
    "X = dia[['carat','x','y','z']]\n",
    "y = dia['price']"
   ]
  },
  {
   "cell_type": "code",
   "execution_count": 93,
   "id": "ae6db329",
   "metadata": {},
   "outputs": [],
   "source": [
    "# Split the data into training and testing sets\n",
    "X_train, X_test, y_train, y_test = train_test_split(X, y, test_size=0.2, random_state=0)\n"
   ]
  },
  {
   "cell_type": "code",
   "execution_count": 97,
   "id": "643b6053",
   "metadata": {},
   "outputs": [
    {
     "data": {
      "text/plain": [
       "LinearRegression()"
      ]
     },
     "execution_count": 97,
     "metadata": {},
     "output_type": "execute_result"
    }
   ],
   "source": [
    "# Fit the multiple linear regression model\n",
    "model = LinearRegression()\n",
    "model.fit(X_train, y_train)"
   ]
  },
  {
   "cell_type": "code",
   "execution_count": 98,
   "id": "17a0bf61",
   "metadata": {},
   "outputs": [
    {
     "data": {
      "text/plain": [
       "1799.7154292569953"
      ]
     },
     "execution_count": 98,
     "metadata": {},
     "output_type": "execute_result"
    }
   ],
   "source": [
    "#Check for intercept\n",
    "intercept = model.intercept_\n",
    "intercept"
   ]
  },
  {
   "cell_type": "code",
   "execution_count": 99,
   "id": "4102a8c2",
   "metadata": {},
   "outputs": [
    {
     "data": {
      "text/plain": [
       "array([10143.12303308,  -854.15844089,   132.05480168,  -515.36606437])"
      ]
     },
     "execution_count": 99,
     "metadata": {},
     "output_type": "execute_result"
    }
   ],
   "source": [
    "#Check for slope\n",
    "coef = model.coef_\n",
    "coef"
   ]
  },
  {
   "cell_type": "code",
   "execution_count": 100,
   "id": "f274adab",
   "metadata": {},
   "outputs": [],
   "source": [
    "#Conduct Prediction\n",
    "y_pred = model.predict(X_test)"
   ]
  },
  {
   "cell_type": "code",
   "execution_count": 103,
   "id": "ec276be9",
   "metadata": {},
   "outputs": [
    {
     "name": "stdout",
     "output_type": "stream",
     "text": [
      "Mean Absolute Error: 903.5291658423374\n",
      "Mean Squared Error: 2260794.3634310486\n",
      "Root Mean Squared Error: 1503.5938159726013\n",
      "R^2 Score: 0.8573782517388897\n"
     ]
    }
   ],
   "source": [
    "# Evaluate the model\n",
    "# Calculate MAE\n",
    "mae = mean_absolute_error(y_test, y_pred)\n",
    "print(f\"Mean Absolute Error: {mae}\")\n",
    "\n",
    "# Calculate MSE\n",
    "mse = mean_squared_error(y_test, y_pred)\n",
    "print(f\"Mean Squared Error: {mse}\")\n",
    "\n",
    "\n",
    "# Calculate RMSE\n",
    "rmse = np.sqrt(mse)\n",
    "print(f\"Root Mean Squared Error: {rmse}\")\n",
    "\n",
    "r2 = r2_score(y_test, y_pred)\n",
    "print(f\"R^2 Score: {r2}\")"
   ]
  },
  {
   "cell_type": "code",
   "execution_count": null,
   "id": "2b9a59b8",
   "metadata": {},
   "outputs": [],
   "source": []
  },
  {
   "cell_type": "code",
   "execution_count": 105,
   "id": "516ca661",
   "metadata": {},
   "outputs": [],
   "source": [
    "#Split data for polynomial Regression\n",
    "X_train_poly, X_test_poly, y_train, y_test = train_test_split(X_poly, y, test_size=0.2, random_state=0)"
   ]
  },
  {
   "cell_type": "code",
   "execution_count": 119,
   "id": "e1ba46d9",
   "metadata": {},
   "outputs": [
    {
     "data": {
      "text/plain": [
       "array([[ 1.    ,  0.23  ,  3.95  , ..., 15.8404,  9.6714,  5.9049],\n",
       "       [ 1.    ,  0.21  ,  3.89  , ..., 14.7456,  8.8704,  5.3361],\n",
       "       [ 1.    ,  0.23  ,  4.05  , ..., 16.5649,  9.4017,  5.3361],\n",
       "       ...,\n",
       "       [ 1.    ,  0.7   ,  5.66  , ..., 32.2624, 20.2208, 12.6736],\n",
       "       [ 1.    ,  0.86  ,  6.15  , ..., 37.4544, 22.8888, 13.9876],\n",
       "       [ 1.    ,  0.75  ,  5.83  , ..., 34.4569, 21.3668, 13.2496]])"
      ]
     },
     "execution_count": 119,
     "metadata": {},
     "output_type": "execute_result"
    }
   ],
   "source": [
    "# Polynomial regression degree\n",
    "degree = 2\n",
    "poly_features = PolynomialFeatures(degree=degree)\n",
    "X_poly = poly_features.fit_transform(X)\n",
    "X_poly"
   ]
  },
  {
   "cell_type": "code",
   "execution_count": 120,
   "id": "fc852ec8",
   "metadata": {},
   "outputs": [
    {
     "data": {
      "text/plain": [
       "LinearRegression()"
      ]
     },
     "execution_count": 120,
     "metadata": {},
     "output_type": "execute_result"
    }
   ],
   "source": [
    "#Fit Polynomial\n",
    "poly_model = LinearRegression()\n",
    "poly_model.fit(X_train_poly,  y_train)"
   ]
  },
  {
   "cell_type": "code",
   "execution_count": 121,
   "id": "e1bc9717",
   "metadata": {},
   "outputs": [
    {
     "data": {
      "text/plain": [
       "array([6377.61424209, 7775.63772946, 6836.4450099 , ..., 5753.14864004,\n",
       "       5524.14659955, 1152.53178516])"
      ]
     },
     "execution_count": 121,
     "metadata": {},
     "output_type": "execute_result"
    }
   ],
   "source": [
    "#Make Prediction\n",
    "y_pred_poly_fit = poly_model.predict(X_test_poly)\n",
    "y_pred_poly_fit"
   ]
  },
  {
   "cell_type": "code",
   "execution_count": 122,
   "id": "f85916a6",
   "metadata": {},
   "outputs": [
    {
     "name": "stdout",
     "output_type": "stream",
     "text": [
      "Test R2: 0.8692741037217986\n"
     ]
    }
   ],
   "source": [
    "#Check for Accuaracy\n",
    "print(f\"Test R2: {r2_score(y_test, y_pred_poly_fit)}\")"
   ]
  },
  {
   "cell_type": "code",
   "execution_count": null,
   "id": "be0d7997",
   "metadata": {},
   "outputs": [],
   "source": []
  }
 ],
 "metadata": {
  "kernelspec": {
   "display_name": "Python 3 (ipykernel)",
   "language": "python",
   "name": "python3"
  },
  "language_info": {
   "codemirror_mode": {
    "name": "ipython",
    "version": 3
   },
   "file_extension": ".py",
   "mimetype": "text/x-python",
   "name": "python",
   "nbconvert_exporter": "python",
   "pygments_lexer": "ipython3",
   "version": "3.9.7"
  }
 },
 "nbformat": 4,
 "nbformat_minor": 5
}
